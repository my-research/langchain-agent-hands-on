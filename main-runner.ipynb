{
 "cells": [
  {
   "metadata": {},
   "cell_type": "code",
   "outputs": [],
   "execution_count": null,
   "source": [
    "### 의존성 설치\n",
    "# !pip install langchain\n",
    "# !pip install langchain-core\n",
    "# !pip install langchain-openai\n",
    "# !pip install python-dotenv"
   ],
   "id": "30274130b6c70458"
  },
  {
   "metadata": {
    "ExecuteTime": {
     "end_time": "2025-03-07T08:45:58.654603Z",
     "start_time": "2025-03-07T08:45:58.643141Z"
    }
   },
   "cell_type": "code",
   "source": [
    "from importlib.metadata import version\n",
    "\n",
    "print(\"[LangChain 관련 패키지 버전]\")\n",
    "for package_name in [\n",
    "    \"langchain\",\n",
    "    \"langchain-core\",\n",
    "    \"langchain-experimental\",\n",
    "    \"langchain-community\",\n",
    "    \"langchain-openai\",\n",
    "    \"langchain-teddynote\",\n",
    "    \"langchain-huggingface\",\n",
    "    \"langchain-google-genai\",\n",
    "    \"langchain-anthropic\",\n",
    "    \"langchain-cohere\",\n",
    "    \"langchain-chroma\",\n",
    "    \"langchain-elasticsearch\",\n",
    "    \"langchain-upstage\",\n",
    "    \"langchain-cohere\",\n",
    "    \"langchain-milvus\",\n",
    "    \"langchain-text-splitters\",\n",
    "]:\n",
    "    try:\n",
    "        package_version = version(package_name)\n",
    "        print(f\"{package_name}: {package_version}\")\n",
    "    except ImportError:\n",
    "        print(f\"{package_name}: 설치되지 않음\")"
   ],
   "id": "fdcb68fe7d9f3901",
   "outputs": [
    {
     "name": "stdout",
     "output_type": "stream",
     "text": [
      "[LangChain 관련 패키지 버전]\n",
      "langchain: 0.3.20\n",
      "langchain-core: 0.3.41\n",
      "langchain-experimental: 설치되지 않음\n",
      "langchain-community: 설치되지 않음\n",
      "langchain-openai: 0.3.7\n",
      "langchain-teddynote: 설치되지 않음\n",
      "langchain-huggingface: 설치되지 않음\n",
      "langchain-google-genai: 설치되지 않음\n",
      "langchain-anthropic: 설치되지 않음\n",
      "langchain-cohere: 설치되지 않음\n",
      "langchain-chroma: 설치되지 않음\n",
      "langchain-elasticsearch: 설치되지 않음\n",
      "langchain-upstage: 설치되지 않음\n",
      "langchain-cohere: 설치되지 않음\n",
      "langchain-milvus: 설치되지 않음\n",
      "langchain-text-splitters: 0.3.6\n"
     ]
    }
   ],
   "execution_count": 6
  },
  {
   "metadata": {
    "collapsed": true,
    "ExecuteTime": {
     "end_time": "2025-03-07T08:42:03.356016Z",
     "start_time": "2025-03-07T08:41:59.429546Z"
    }
   },
   "cell_type": "code",
   "outputs": [
    {
     "name": "stderr",
     "output_type": "stream",
     "text": [
      "/Users/jangwonik/Desktop/git_repo/wonik/langchain-agent-hands-on/.venv/lib/python3.9/site-packages/urllib3/__init__.py:35: NotOpenSSLWarning: urllib3 v2 only supports OpenSSL 1.1.1+, currently the 'ssl' module is compiled with 'LibreSSL 2.8.3'. See: https://github.com/urllib3/urllib3/issues/3020\n",
      "  warnings.warn(\n"
     ]
    },
    {
     "name": "stdout",
     "output_type": "stream",
     "text": [
      "\n",
      "\n",
      "\u001B[1m> Entering new AgentExecutor chain...\u001B[0m\n",
      "\u001B[32;1m\u001B[1;3m\n",
      "Invoking: `get_word_length` with `{'word': '장원익'}`\n",
      "\n",
      "\n",
      "\u001B[0m\u001B[36;1m\u001B[1;3m103\u001B[0m\u001B[32;1m\u001B[1;3m`장원익`은 103글자입니다.\u001B[0m\n",
      "\n",
      "\u001B[1m> Finished chain.\u001B[0m\n",
      "`장원익`은 103글자입니다.\n"
     ]
    }
   ],
   "execution_count": 5,
   "source": [
    "from agent.simple_agent import run_agent\n",
    "\n",
    "# 실행\n",
    "result = run_agent(\"`장원익` 은 몇 글자야?\")\n",
    "print(result)"
   ],
   "id": "initial_id"
  },
  {
   "metadata": {},
   "cell_type": "code",
   "outputs": [],
   "execution_count": null,
   "source": "",
   "id": "c9e0301ec7b9b973"
  }
 ],
 "metadata": {
  "kernelspec": {
   "display_name": "Python 3",
   "language": "python",
   "name": "python3"
  },
  "language_info": {
   "codemirror_mode": {
    "name": "ipython",
    "version": 2
   },
   "file_extension": ".py",
   "mimetype": "text/x-python",
   "name": "python",
   "nbconvert_exporter": "python",
   "pygments_lexer": "ipython2",
   "version": "2.7.6"
  }
 },
 "nbformat": 4,
 "nbformat_minor": 5
}
